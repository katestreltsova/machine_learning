{
 "cells": [
  {
   "cell_type": "markdown",
   "metadata": {},
   "source": [
    "###  Задача 1. (2 балла)\n",
    "Позволяет ли предсказывать корректные вероятности:\n",
    "\n",
    "1) квадратичная функция потерь $L(y, z) =(y-z)^2$, \n",
    "\n",
    "2) экспоненциальная функция потерь $L(y, z) = \\exp(-yz)$ ?"
   ]
  },
  {
   "cell_type": "markdown",
   "metadata": {},
   "source": [
    "$\\textbf{Задание 1.1}$\n",
    "\n",
    "Минимум матожидания функции потерь в каждой точке x должен достигаться на вероятности положительного класса\n",
    "$$arg\\min_{b\\in \\mathbb{R} }\\mathbb{E}  [L(y,b)|x] = p(y = +1|x) $$\n",
    "Матожидание функции потерь в точке $x$:\n",
    "$$ \\mathbb{E}[L(y,b)|x] = p(y = +1|x)(b-1)^2 + (1- p(y = +1|x)(b-0)^2$$\n",
    "Дифференциируем по b\n",
    "$$\\frac{\\partial}{\\partial b}\\mathbb{E} [L(y,b)|x] = 2p(y = +1|x)(b-1) + (1- p(y = +1|x)b = 0$$\n",
    "$$b = p(y = +1|x)$$\n",
    "$\\Rightarrow$ Квадратичная функция потерь позволяет предсказывать корректные вероятности"
   ]
  },
  {
   "cell_type": "markdown",
   "metadata": {},
   "source": [
    "$\\textbf{Задание 1.2}$\n",
    "\n",
    "Матожидание функции потерь в точке $x$:\n",
    "\n",
    "$$ \\mathbb{E}[L(y,b)|x] = p(y = +1|x)exp(-b) + (1- p(y = +1|x)exp(-b*0) $$\n",
    "Дифференциируем по b\n",
    "$$\\frac{\\partial}{\\partial b}\\mathbb{E} [L(y,b)|x] = -p(y = +1|x)exp(-b) = 0$$\n",
    "$$ exp(-b) = 0 \\Rightarrow b = 1$$\n",
    "$\\Rightarrow $ Экспоненциальная функция потерь не позволяет предсказывать корректные вероятности"
   ]
  },
  {
   "cell_type": "markdown",
   "metadata": {},
   "source": [
    "### Задача 2.  (2 балла)\n",
    "Рассмотрим два вектора, $v_1=(1,1,2)$ и $v_2=(1,1,1)$. Переход в спрямляющее пространство осуществляется с помощью гауссовской ядерной функции $K(v,v {'})=\\exp(-\\gamma|v-v{'}|^2)$.\n",
    "*  Как от $\\gamma$ зависят длины векторов в спрямляющем пространстве?\n",
    "*  Как от $\\gamma$ зависит угол между векторами в спрямляющем пространстве?"
   ]
  },
  {
   "cell_type": "markdown",
   "metadata": {},
   "source": [
    "$\\textbf{Задание 2.1}$\n",
    "\n",
    "Пусть $ \\varphi$ - некоторое отображение из исходного пространства в стремляющее пространство. Тогда длина вектора x в спрямляющем пространстве рассчитывается как: $$ || \\varphi (x)|| = \\sqrt{||\\varphi(x)^2||} = \\sqrt{\\langle\\varphi (x),\\varphi (x)\\rangle} = \\sqrt{K(x,x)}$$\n",
    "$\\Rightarrow$ $$|| \\varphi (v)|| = \\sqrt{K(v,v)} = \\exp(-\\gamma|v-v|^2) = exp(0) = 1$$\n",
    "$$|| \\varphi (v{'})|| = \\sqrt{K(v{'},v{'})} = \\exp(-\\gamma|v{'}-v{'}|^2) = exp(0) = 1$$\n",
    "$\\Rightarrow$ От $\\gamma$ длины векторов в спрямляющем пространстве не зависят"
   ]
  },
  {
   "cell_type": "markdown",
   "metadata": {},
   "source": [
    "$\\textbf{Задание 2.2}$\n",
    "\n",
    "Пусть $ \\varphi$ - некоторое отображение из исходного пространства в стремляющее пространство. $\\alpha$ - угол между векторами в спрямляющем пространстве. Скалярное произведение вычислаяется по формуле: $$ \\langle\\varphi (v),\\varphi (v{'})\\rangle = K(v,v{'})$$\n",
    "С другой стороны, скалярное произведение равно: $$ \\langle\\varphi (v),\\varphi (v{'})\\rangle = ||v||*||v{'}||* \\cos\\alpha$$\n",
    "$\\Rightarrow$ $$\\cos\\alpha = {{K(v,v{'})}\\over {||v||*||v{'}||}}$$\n",
    "$\\Rightarrow$ $$\\cos\\alpha = {{\\exp(-\\gamma|v-v{'}|^2)}\\over {||v||*||v{'}||}}$$\n",
    "$\\Rightarrow$ Чем больше $\\gamma$, тем меньше косинус угла, тем меньше угол"
   ]
  },
  {
   "cell_type": "markdown",
   "metadata": {},
   "source": [
    "### Задача 3. (2 балла) \n",
    "\n",
    "Является ли функция $K(x,z)=\\cos(x-z)$ ядром?"
   ]
  },
  {
   "cell_type": "markdown",
   "metadata": {},
   "source": [
    "$\\textbf{Задание 3}$\n",
    "\n",
    "Теорема Мерсера: функция K(x, z)\n",
    "является ядром тогда и только тогда, когда:\n",
    "1. Она симметрична: K(x, z) = K(z, x).\n",
    "2. Она неотрицательно определена, то есть для любой конечной выборки (x1, . . . , xℓ)\n",
    "матрица K =K(xi, xj ) i,j от 1 до l неотрицательно определена."
   ]
  },
  {
   "cell_type": "markdown",
   "metadata": {},
   "source": [
    "$1) K(z,x) = cos(z-x) = cos(-(x-z)) = cos(x-z) = K(x,z) \\Rightarrow{K(x,z) - симметрична}$\n",
    "\n",
    "$2)  K(x,z) = cos(x-z) = cos(x) cos(z) + sin(z) sin(x)$\n",
    "Так как cos(x) и sin(z) являются ядрами, то их сумма и производение - тоже функция, являющаяся ядром \n",
    "$\\Rightarrow$ K(x,z) - ядро"
   ]
  },
  {
   "cell_type": "markdown",
   "metadata": {},
   "source": [
    "### Задача 4. (4 балла)"
   ]
  },
  {
   "cell_type": "code",
   "execution_count": 8,
   "metadata": {},
   "outputs": [
    {
     "name": "stdout",
     "output_type": "stream",
     "text": [
      "Populating the interactive namespace from numpy and matplotlib\n"
     ]
    },
    {
     "name": "stderr",
     "output_type": "stream",
     "text": [
      "C:\\ProgramData\\Anaconda3\\lib\\site-packages\\IPython\\core\\magics\\pylab.py:160: UserWarning: pylab import has clobbered these variables: ['f']\n",
      "`%matplotlib` prevents importing * from pylab and numpy\n",
      "  \"\\n`%matplotlib` prevents importing * from pylab and numpy\"\n"
     ]
    }
   ],
   "source": [
    "%pylab inline\n",
    "import pandas as pd\n",
    "\n",
    "from sklearn.datasets import make_classification\n",
    "from sklearn.model_selection import train_test_split"
   ]
  },
  {
   "cell_type": "markdown",
   "metadata": {},
   "source": [
    "Сгенерируем синтетические данные:"
   ]
  },
  {
   "cell_type": "code",
   "execution_count": 9,
   "metadata": {},
   "outputs": [],
   "source": [
    "X, y = make_classification(\n",
    "    n_samples=10000, n_features=10, n_informative=5, n_redundant=5,\n",
    "    random_state=42)\n",
    "\n",
    "X_train, X_test, y_train, y_test = train_test_split(\n",
    "    X, y, test_size=0.3, random_state=42)"
   ]
  },
  {
   "cell_type": "markdown",
   "metadata": {},
   "source": [
    "####  1. Обучите метод опорных векторов. Воспользуйтесь классом [LinearSVC](https://scikit-learn.org/stable/modules/generated/sklearn.svm.LinearSVC.html)."
   ]
  },
  {
   "cell_type": "code",
   "execution_count": 10,
   "metadata": {},
   "outputs": [
    {
     "data": {
      "text/plain": [
       "LinearSVC(C=0.1, class_weight=None, dual=True, fit_intercept=True,\n",
       "          intercept_scaling=1, loss='squared_hinge', max_iter=1000,\n",
       "          multi_class='ovr', penalty='l2', random_state=None, tol=0.0001,\n",
       "          verbose=0)"
      ]
     },
     "execution_count": 10,
     "metadata": {},
     "output_type": "execute_result"
    }
   ],
   "source": [
    "from sklearn.svm import LinearSVC\n",
    "SVС_classifier = LinearSVC(C = 0.1)\n",
    "SVС_classifier.fit(X_train, y_train)\n"
   ]
  },
  {
   "cell_type": "markdown",
   "metadata": {},
   "source": [
    "#### 2. Чему равны доля верных предсказаний, точность, полнота и F-мера классификатора? "
   ]
  },
  {
   "cell_type": "code",
   "execution_count": 11,
   "metadata": {},
   "outputs": [],
   "source": [
    "y_pred = SVС_classifier.predict(X_test)"
   ]
  },
  {
   "cell_type": "code",
   "execution_count": 12,
   "metadata": {},
   "outputs": [
    {
     "name": "stdout",
     "output_type": "stream",
     "text": [
      "Доля верных предсказаний = 0.7716666666666666\n",
      "Точность = 0.7758620689655172\n",
      "Полнота = 0.7712590639419907\n",
      "F1-мера = 0.7735537190082645\n"
     ]
    }
   ],
   "source": [
    "from sklearn import metrics\n",
    "print ('Доля верных предсказаний =', metrics.accuracy_score(y_test, y_pred))\n",
    "print ('Точность =', metrics.precision_score(y_test, y_pred))\n",
    "print ('Полнота =', metrics.recall_score(y_test, y_pred))\n",
    "print ('F1-мера =', metrics.f1_score(y_test, y_pred))"
   ]
  },
  {
   "cell_type": "markdown",
   "metadata": {},
   "source": [
    "#### 3.  Постройте ROC кривую. Определите AUC-ROC. \n",
    "Обратите внимание, что метод опорных векторов  не умеет predict_proba, но имеет метод decision_function.\n",
    "Определите вероятности принадлежности к положительному классу как:\n",
    "$$P(y=+1|x)=\\frac{a(x)-\\min(a_i)}{\\max(a_i)-\\min(a_i)}$$"
   ]
  },
  {
   "cell_type": "code",
   "execution_count": 13,
   "metadata": {},
   "outputs": [],
   "source": [
    "f = SVС_classifier.decision_function(X_test)\n",
    "probs = []\n",
    "for a in f:\n",
    "    p = (a - min(f))/(max(f)- min(f))\n",
    "    probs.append(p)\n",
    "fpr, tpr, thresholds = metrics.roc_curve(y_test, probs[:])"
   ]
  },
  {
   "cell_type": "code",
   "execution_count": 14,
   "metadata": {},
   "outputs": [
    {
     "data": {
      "image/png": "[encoded data removed]",
      "text/plain": [
       "<Figure size 432x288 with 1 Axes>"
      ]
     },
     "metadata": {
      "needs_background": "light"
     },
     "output_type": "display_data"
    },
    {
     "name": "stdout",
     "output_type": "stream",
     "text": [
      "AUC-ROC= 0.847649764792011\n"
     ]
    }
   ],
   "source": [
    "plt.plot(fpr, tpr)\n",
    "plt.xlabel('FPR')\n",
    "plt.ylabel('TPR')\n",
    "plt.show()\n",
    "print('AUC-ROC=',metrics.auc(fpr, tpr))"
   ]
  }
 ],
 "metadata": {
  "kernelspec": {
   "display_name": "Python 3",
   "language": "python",
   "name": "python3"
  },
  "language_info": {
   "codemirror_mode": {
    "name": "ipython",
    "version": 3
   },
   "file_extension": ".py",
   "mimetype": "text/x-python",
   "name": "python",
   "nbconvert_exporter": "python",
   "pygments_lexer": "ipython3",
   "version": "3.7.3"
  }
 },
 "nbformat": 4,
 "nbformat_minor": 2
}
