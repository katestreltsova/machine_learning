{
 "cells": [
  {
   "cell_type": "code",
   "execution_count": 1,
   "metadata": {
    "colab": {},
    "colab_type": "code",
    "id": "3bvBeAaGpHqG"
   },
   "outputs": [],
   "source": [
    "import numpy as np\n",
    "import pandas as pd\n",
    "\n",
    "%matplotlib inline\n",
    "import matplotlib.pyplot as plt"
   ]
  },
  {
   "cell_type": "markdown",
   "metadata": {
    "colab_type": "text",
    "id": "Vt5vGPTGpHqU"
   },
   "source": [
    "##  Работа с текстовыми данными \n",
    "Будем работать с данными с семинара, но использовать все категории текстов:"
   ]
  },
  {
   "cell_type": "code",
   "execution_count": 2,
   "metadata": {
    "colab": {},
    "colab_type": "code",
    "id": "POCz1yCZpHqX"
   },
   "outputs": [],
   "source": [
    "from sklearn.datasets import fetch_20newsgroups\n",
    "twenty_train = fetch_20newsgroups(subset='train',shuffle=True,random_state=7)\n",
    "twenty_test = fetch_20newsgroups(subset='test', shuffle=True,random_state=7)#"
   ]
  },
  {
   "cell_type": "code",
   "execution_count": 3,
   "metadata": {
    "colab": {},
    "colab_type": "code",
    "id": "TRfuFszfpHqh"
   },
   "outputs": [],
   "source": [
    "X_train=twenty_train.data\n",
    "X_test=twenty_test.data\n",
    "y_train=twenty_train.target\n",
    "y_test=twenty_test.target"
   ]
  },
  {
   "cell_type": "markdown",
   "metadata": {
    "colab_type": "text",
    "id": "EAxhQFCopHqp"
   },
   "source": [
    "### 1. Мешок слов (1 балл)\n",
    "Воспользуйтесь мешком слов  для признакового описания документа. Постройте логистическую регрессию с параметрами по умолчанию.  Какова доля верных предсказаний на тестовой выборке?"
   ]
  },
  {
   "cell_type": "code",
   "execution_count": 4,
   "metadata": {
    "colab": {},
    "colab_type": "code",
    "id": "6genXGv1pHqr"
   },
   "outputs": [],
   "source": [
    "from sklearn.feature_extraction.text import CountVectorizer\n",
    "from sklearn.feature_extraction.text import TfidfTransformer\n",
    "\n",
    "\n",
    "from sklearn.pipeline import Pipeline\n",
    "from sklearn.linear_model import LogisticRegression\n",
    "from sklearn import metrics"
   ]
  },
  {
   "cell_type": "code",
   "execution_count": 16,
   "metadata": {},
   "outputs": [],
   "source": [
    "count_vect = CountVectorizer() \n",
    "X_train_counts = count_vect.fit_transform(twenty_train.data)\n",
    "X_test_counts = count_vect.transform(X_test)"
   ]
  },
  {
   "cell_type": "code",
   "execution_count": 17,
   "metadata": {},
   "outputs": [
    {
     "name": "stdout",
     "output_type": "stream",
     "text": [
      "Доля верных предсказаний =  0.8069569835369091\n"
     ]
    }
   ],
   "source": [
    "lr = LogisticRegression()\n",
    "lr.fit(X_train_counts,y_train)\n",
    "y_pred = lr.predict(X_test_counts)\n",
    "print(\"Доля верных предсказаний = \",metrics.accuracy_score(y_test, y_pred))"
   ]
  },
  {
   "cell_type": "markdown",
   "metadata": {
    "colab_type": "text",
    "id": "JBT8qtewpHqz"
   },
   "source": [
    "### 2. TF-IDF (1 балл)\n",
    "Теперь в качестве признаков возьмите величины tf-idf. Как поменялось качество классификатора?"
   ]
  },
  {
   "cell_type": "code",
   "execution_count": 22,
   "metadata": {},
   "outputs": [
    {
     "name": "stdout",
     "output_type": "stream",
     "text": [
      "Доля верных предсказаний =  0.8279341476367499\n"
     ]
    }
   ],
   "source": [
    "tfidf_transformer = TfidfTransformer()\n",
    "X_train_tfidf = tfidf_transformer.fit_transform(X_train_counts)\n",
    "X_test_tfidf = tfidf_transformer.transform(X_test_counts)\n",
    "lr.fit(X_train_tfidf,y_train)\n",
    "y_pred_tfidf = lr.predict(X_test_tfidf)\n",
    "print(\"Доля верных предсказаний = \",metrics.accuracy_score(y_test, y_pred_tfidf))"
   ]
  },
  {
   "cell_type": "markdown",
   "metadata": {
    "colab_type": "text",
    "id": "UiW5o3d0pHq1"
   },
   "source": [
    "### 3.  Матрица ошибок (1 балл)\n",
    "Выведите матрицу ошибок. Определите три пары категорий, которые модель путает чаще всего.  "
   ]
  },
  {
   "cell_type": "code",
   "execution_count": 71,
   "metadata": {},
   "outputs": [
    {
     "name": "stdout",
     "output_type": "stream",
     "text": [
      "[[242   2   1   0   1   2   2   0   1   0   0   1   1   6   3  16   2   7\n",
      "    1  31]\n",
      " [  2 294  13   7   7  18   5   7   0   7   0   5  12   0   3   3   0   2\n",
      "    2   2]\n",
      " [  1  28 270  46  12  13   2   4   1   6   1   1   4   0   1   0   2   0\n",
      "    1   1]\n",
      " [  1  11  26 271  26   7  14   4   1   0   0   3  27   0   0   0   0   0\n",
      "    1   0]\n",
      " [  1   5   3  20 311   0   9   3   1   7   1   1  16   1   0   0   2   0\n",
      "    3   1]\n",
      " [  1  44  38   8   4 277   4   1   3   1   1   1   5   2   3   1   0   0\n",
      "    0   1]\n",
      " [  1   2   2   7   8   2 352   5   0   1   1   1   6   1   1   0   0   0\n",
      "    0   0]\n",
      " [  0   3   0   3   2   0  11 340   6   4   0   0  17   4   1   1   2   0\n",
      "    2   0]\n",
      " [  0   1   0   2   2   0   4   8 372   1   0   0   3   0   0   3   0   0\n",
      "    1   1]\n",
      " [  2   1   1   0   3   0   5   3   0 356  16   0   1   2   1   2   0   2\n",
      "    2   0]\n",
      " [  0   0   1   0   4   2   3   0   0   9 373   1   0   0   0   1   2   1\n",
      "    2   0]\n",
      " [  0   5   2   3   5   2   4   2   1   3   1 350   7   1   0   1   4   0\n",
      "    4   1]\n",
      " [  3   8   9  26  11   2   8   5   5   2   1   5 292   8   1   4   1   1\n",
      "    0   1]\n",
      " [  5   8   4   8   4   3   6  12   2   4   2   1   9 307   3   6   1   2\n",
      "    6   3]\n",
      " [  2   9   0   0   5   2   1   2   0   0   1   0   7   5 353   2   0   0\n",
      "    4   1]\n",
      " [  6   1   2   2   0   0   0   1   0   1   0   0   1   1   2 368   0   0\n",
      "    1  12]\n",
      " [  3   1   1   1   1   0   3   1   0   5   0   3   1   4   0   2 319   2\n",
      "   11   6]\n",
      " [ 16   1   0   0   1   1   0   2   2   3   0   1   6   0   3   7   3 307\n",
      "   17   6]\n",
      " [  1   1   0   0   2   1   0   6   3   2   1   4   3   8   7   5  81   4\n",
      "  170  11]\n",
      " [ 32   4   0   1   0   1   0   0   0   0   1   0   2   6   3  26  10   1\n",
      "   10 154]]\n"
     ]
    }
   ],
   "source": [
    "matrix_of_errors = metrics.confusion_matrix(y_test,y_pred)\n",
    "print( matrix_of_errors)"
   ]
  },
  {
   "cell_type": "code",
   "execution_count": 74,
   "metadata": {},
   "outputs": [
    {
     "name": "stdout",
     "output_type": "stream",
     "text": [
      "talk.politics.guns и talk.politics.misc перепутали  92 раза\n",
      "comp.os.ms-windows.misc и comp.sys.ibm.pc.hardware перепутали  72 раза\n",
      "alt.atheism и talk.religion.misc перепутали  63 раза\n"
     ]
    }
   ],
   "source": [
    "matrix_of_errors = metrics.confusion_matrix(y_test,y_pred)\n",
    "maximum = 0\n",
    "for i in range(3):\n",
    "    maximum = 0\n",
    "    for i in range(len(matrix_of_errors)):\n",
    "        for j in range(len(matrix_of_errors)):\n",
    "            if i != j and (matrix_of_errors[i][j]+ matrix_of_errors[j][i] > maximum):\n",
    "                maximum = matrix_of_errors[i][j]+ matrix_of_errors[j][i]\n",
    "                i_max = i\n",
    "                j_max = j\n",
    "    matrix_of_errors[i_max][j_max] = 0\n",
    "    matrix_of_errors[j_max][i_max] = 0\n",
    "    print(twenty_train.target_names[i_max], \"и\" ,twenty_train.target_names[j_max], \"перепутали \",maximum, \"раза\")"
   ]
  },
  {
   "cell_type": "markdown",
   "metadata": {
    "colab_type": "text",
    "id": "dJoeJxqrpHq3"
   },
   "source": [
    "### 4.Определение наиболее важных признаков (слов) (2 балла)\n",
    "Выберите категорию. Для гиперплоскости, отделяющей класс этой категории от остальных, определите 5 признаков, которые имеют наибольшие коэффициенты в линейной модели и 5 признаков, которые имеют наименьшие коэффициенты:\n",
    "* определите слова, котором соответствуют наибольшие и наименьшие коэффициенты в линейной модели;\n",
    "* напишите  функцию поиска ключа в словаре по заданному листу значений. "
   ]
  },
  {
   "cell_type": "code",
   "execution_count": null,
   "metadata": {
    "colab": {},
    "colab_type": "code",
    "id": "a5J_0qOdpHq5"
   },
   "outputs": [],
   "source": []
  }
 ],
 "metadata": {
  "colab": {
   "name": "Assignment05.ipynb",
   "provenance": []
  },
  "kernelspec": {
   "display_name": "Python 3",
   "language": "python",
   "name": "python3"
  },
  "language_info": {
   "codemirror_mode": {
    "name": "ipython",
    "version": 3
   },
   "file_extension": ".py",
   "mimetype": "text/x-python",
   "name": "python",
   "nbconvert_exporter": "python",
   "pygments_lexer": "ipython3",
   "version": "3.7.3"
  }
 },
 "nbformat": 4,
 "nbformat_minor": 1
}
