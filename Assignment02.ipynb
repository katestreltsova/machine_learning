{
 "cells": [
  {
   "cell_type": "markdown",
   "metadata": {},
   "source": [
    "# Задание 2"
   ]
  },
  {
   "cell_type": "markdown",
   "metadata": {},
   "source": [
    "### 1. Одномерная линейная регрессия.\n",
    "Вывести формулу линейной регрессии для одномерного случая. Дана\n",
    "выборка $\\{x_i,y_i\\}_{i=1}^N$, минимизируя среднеквадратичную ошибку определить\n",
    "коэффициенты линейной регрессии: $a(x)=w_0+w_1x$.\n",
    "\n",
    "### 2. Оптимальный шаг градиентного спуска. \n",
    "Рассмотрим задачу обучения линейной регрессии:\n",
    "\n",
    "$$\n",
    "Q(\\vec{w})=(X\\vec{w}-\\vec{y})^T(X\\vec{w}-\\vec{y}) \\to \\min_{w},\n",
    "$$\n",
    "и будем решать ее с помощью градиентного спуска. Допустим, мы находимся на некоторой итерации $k$, и хотим выполнить очередной шаг:\n",
    "$$\n",
    "\\vec{w}^{(k)}=\\vec{w}^{(k-1)}-\\eta \\nabla_w Q(\\vec{w}^{(k-1)}).\n",
    "$$\n",
    "При известных $ \\vec{y}, X,\\vec{w}^{(k-1)}$, определите длину шага $\\eta$, при которой уменьшение значение функционала будет наибольшим, т.е.: \n",
    "\n",
    "$$\n",
    "Q(\\vec{w}^{(k-1)}-\\eta \\nabla_w Q(\\vec{w}^{(k-1)})) \\to \\min_{\\eta}.\n",
    "$$"
   ]
  },
  {
   "cell_type": "code",
   "execution_count": 298,
   "metadata": {},
   "outputs": [],
   "source": [
    "import numpy as np\n",
    "import pandas as pd\n",
    "\n",
    "%matplotlib inline\n",
    "import matplotlib.pyplot as plt\n",
    "\n",
    "from sklearn.model_selection import train_test_split\n",
    "from sklearn.model_selection import KFold\n",
    "from sklearn.model_selection import ShuffleSplit\n",
    "\n",
    "from sklearn.preprocessing import StandardScaler\n",
    "\n",
    "from sklearn.linear_model import LinearRegression\n",
    "from sklearn.linear_model import Ridge\n",
    "from sklearn.linear_model import Lasso\n",
    "\n",
    "from sklearn.model_selection import GridSearchCV\n",
    "from random import randint"
   ]
  },
  {
   "cell_type": "markdown",
   "metadata": {},
   "source": [
    "### 3. Стохастический градиентный спуск \n",
    "Напишите функцию стохастического градиентного спуска. \n",
    "Функция использует для оценки градиента всего функционала ошибки значение градиента, вычисленного по подвыборке размера batch_size=10. Визуализируйте траекторию, длина шага $\\eta=1$."
   ]
  },
  {
   "cell_type": "code",
   "execution_count": 299,
   "metadata": {},
   "outputs": [],
   "source": [
    "np.random.seed(17)\n",
    "n_features = 2\n",
    "n_objects = 300\n",
    "w_true = np.array([1.0,1.0])\n",
    "X = np.random.uniform(-5,5, (n_objects, n_features))\n",
    "Y = X.dot(w_true) + np.random.normal(0,1, (n_objects))"
   ]
  },
  {
   "cell_type": "code",
   "execution_count": 300,
   "metadata": {},
   "outputs": [],
   "source": [
    "#ваш код здесь\n",
    "def stohastic_grad_descent(X, y, w_0,step_size, num_steps):\n",
    "    w = w_0.copy()\n",
    "    w_list = []\n",
    "    for i in range(num_steps):\n",
    "        w_list.append(w)\n",
    "        X_k = []\n",
    "        Y_k = []\n",
    "        batch_size=10\n",
    "        for i in range(batch_size):\n",
    "            n = randint(0, len(X)-1)\n",
    "            X_k.append(X[n])\n",
    "            Y_k.append(Y[n])\n",
    "        X_k = np.array(X_k)\n",
    "        Y_k = np.array(Y_k)\n",
    "        w = w - 2  * step_size * np.dot(X_k.T, np.dot(X_k, w)-Y_k)/Y_k.shape[0]\n",
    "        #w =w- 2 * step_size * np.dot(X.T, np.dot(X, w) - y)/Y.shape[0]\n",
    "    return w_list"
   ]
  },
  {
   "cell_type": "code",
   "execution_count": 301,
   "metadata": {},
   "outputs": [],
   "source": [
    "num_steps = 20\n",
    "step_size = 1e-2\n",
    "w_0 = np.array([0,0])\n",
    "w_list = stohastic_grad_descent(X, Y, w_0,step_size, num_steps)\n",
    "w_list = np.array(w_list)"
   ]
  },
  {
   "cell_type": "code",
   "execution_count": 302,
   "metadata": {},
   "outputs": [
    {
     "data": {
      "image/png": "[encoded data removed]",
      "text/plain": [
       "<Figure size 864x576 with 1 Axes>"
      ]
     },
     "metadata": {
      "needs_background": "light"
     },
     "output_type": "display_data"
    }
   ],
   "source": [
    "plt.figure(figsize=(12, 8))\n",
    "plt.xlabel(r'$w_1$')\n",
    "plt.ylabel(r'$w_2$')\n",
    "plt.gca().set_aspect('equal')\n",
    "\n",
    "# visualize trajectory\n",
    "plt.scatter(w_true[0], w_true[1], c='r')\n",
    "plt.scatter(w_list[:, 0], w_list[:, 1])\n",
    "plt.plot(w_list[:, 0], w_list[:, 1])\n",
    "\n",
    "plt.show()"
   ]
  },
  {
   "cell_type": "markdown",
   "metadata": {},
   "source": [
    "### 4. Линейная регрессия на данных. Оценка важности признаков.  "
   ]
  },
  {
   "cell_type": "code",
   "execution_count": 297,
   "metadata": {},
   "outputs": [
    {
     "name": "stdout",
     "output_type": "stream",
     "text": [
      "['CRIM' 'ZN' 'INDUS' 'CHAS' 'NOX' 'RM' 'AGE' 'DIS' 'RAD' 'TAX' 'PTRATIO'\n",
      " 'B' 'LSTAT']\n",
      "506 13\n"
     ]
    }
   ],
   "source": [
    "from sklearn.datasets import load_boston\n",
    "data = load_boston()\n",
    "feature_names = data.feature_names\n",
    "print(feature_names)\n",
    "X = data.data\n",
    "y = data.target\n",
    "N, d = X.shape\n",
    "print( N, d)"
   ]
  },
  {
   "cell_type": "markdown",
   "metadata": {},
   "source": [
    "#### 4.1 Напишите функцию, которая вычисляет ошибку RMSE (root mean square error):\n",
    "$$ RMSE(a,\\mathbb X)=\\sqrt{\\frac{\\sum_{i=1}^{N}(a(x_i)-y_i)^2}{N}}.$$"
   ]
  },
  {
   "cell_type": "code",
   "execution_count": 303,
   "metadata": {},
   "outputs": [
    {
     "name": "stdout",
     "output_type": "stream",
     "text": [
      "1.0773164349465651\n"
     ]
    }
   ],
   "source": [
    "from math import sqrt\n",
    "def rmse(Y,y_pred):\n",
    "    summ = 0\n",
    "    for i in range(len(Y)):\n",
    "        summ += (Y[i]-y_pred[i])**2\n",
    "    res = sqrt(summ/len(Y))\n",
    "    return res\n",
    "        \n",
    "lr = LinearRegression()\n",
    "lr.fit(X,Y)\n",
    "y_pred = lr.predict(X)\n",
    "print(rmse(Y,y_pred))"
   ]
  },
  {
   "cell_type": "markdown",
   "metadata": {},
   "source": [
    "Разделение выборки на обучающую и тестовую"
   ]
  },
  {
   "cell_type": "code",
   "execution_count": 304,
   "metadata": {},
   "outputs": [],
   "source": [
    "X_train, X_test, Y_train, Y_test = train_test_split(X, Y, test_size=0.3,random_state=42) # train -обучающая, test - тестовая"
   ]
  },
  {
   "cell_type": "markdown",
   "metadata": {},
   "source": [
    "Стандартизация признаков"
   ]
  },
  {
   "cell_type": "code",
   "execution_count": 305,
   "metadata": {},
   "outputs": [
    {
     "name": "stdout",
     "output_type": "stream",
     "text": [
      "210 90\n"
     ]
    }
   ],
   "source": [
    "print(len(X_train),len(X_test))"
   ]
  },
  {
   "cell_type": "code",
   "execution_count": 306,
   "metadata": {},
   "outputs": [
    {
     "name": "stdout",
     "output_type": "stream",
     "text": [
      "[ 0.02155753 -0.09602073]\n"
     ]
    }
   ],
   "source": [
    "print(np.mean(X_train,axis=0))"
   ]
  },
  {
   "cell_type": "code",
   "execution_count": 307,
   "metadata": {},
   "outputs": [],
   "source": [
    "scaler = StandardScaler()\n",
    "scaler.fit(X_train)\n",
    "X_train = scaler.transform(X_train)"
   ]
  },
  {
   "cell_type": "code",
   "execution_count": 308,
   "metadata": {},
   "outputs": [
    {
     "name": "stdout",
     "output_type": "stream",
     "text": [
      "[-3.17206578e-18 -6.58203650e-17]\n",
      "[1. 1.]\n"
     ]
    }
   ],
   "source": [
    "print(np.mean(X_train,axis=0))\n",
    "print(np.std(X_train,axis=0))"
   ]
  },
  {
   "cell_type": "code",
   "execution_count": 309,
   "metadata": {},
   "outputs": [],
   "source": [
    "X_test = scaler.transform(X_test)"
   ]
  },
  {
   "cell_type": "code",
   "execution_count": 310,
   "metadata": {},
   "outputs": [
    {
     "name": "stdout",
     "output_type": "stream",
     "text": [
      "[-0.02824067  0.15525707]\n"
     ]
    }
   ],
   "source": [
    "print(np.mean(X_test,axis=0))"
   ]
  },
  {
   "cell_type": "markdown",
   "metadata": {},
   "source": [
    "Разбейте выборку на обучающую и тестовую в соотношении 7:3. Проведите стандартизацию признаков, постройте линейную регресcию и ответьте на следующие вопросы. \n",
    "#### 4.2. Какова ошибка RMSE  линейной регрессии на обучающей  выборке?\n",
    "\n",
    "#### 4.3. Какова ошибка RMSE линейной регрессии на тестовой выборке?"
   ]
  },
  {
   "cell_type": "code",
   "execution_count": 311,
   "metadata": {},
   "outputs": [
    {
     "name": "stdout",
     "output_type": "stream",
     "text": [
      "Ошибка RMSE линейной регрессии на обучающей выборке:  1.133961309015014\n",
      "Ошибка RMSE линейной регрессии на тестовой выборке:  0.9302093635129306\n"
     ]
    }
   ],
   "source": [
    "lr_train = LinearRegression()\n",
    "lr_train.fit(X_train,Y_train)\n",
    "y_pred = lr_train.predict(X_train)\n",
    "print(\"Ошибка RMSE линейной регрессии на обучающей выборке: \",rmse(Y_train,y_pred))\n",
    "lr_test = LinearRegression()\n",
    "lr_test.fit(X_test,Y_test)\n",
    "y_pred = lr_test.predict(X_test)\n",
    "print(\"Ошибка RMSE линейной регрессии на тестовой выборке: \",rmse(Y_test,y_pred))"
   ]
  },
  {
   "cell_type": "markdown",
   "metadata": {},
   "source": [
    "####  4.4. Распределение ошибок на обучающей выборке. \n",
    "Посчитайте отклонение на каждом обучающем объекте: \n",
    "$$\\delta^{j}_{train}=y_{pred}^{j}-y_{train}^{j},$$\n",
    "и постройте распределение этих отклонений. Какой статистике подчиняется полученное распределение?"
   ]
  },
  {
   "cell_type": "code",
   "execution_count": 312,
   "metadata": {},
   "outputs": [
    {
     "data": {
      "text/plain": [
       "Text(0.5, 1.0, 'Распределение отконений на каждом обучающем объекте')"
      ]
     },
     "execution_count": 312,
     "metadata": {},
     "output_type": "execute_result"
    },
    {
     "data": {
      "image/png": "[encoded data removed]",
      "text/plain": [
       "<Figure size 432x288 with 1 Axes>"
      ]
     },
     "metadata": {
      "needs_background": "light"
     },
     "output_type": "display_data"
    }
   ],
   "source": [
    "otkl = []\n",
    "y_tr_pred = lr.predict(X_train)\n",
    "for i in range(len(Y_train)):\n",
    "    o = y_tr_pred[i]-Y_train[i]\n",
    "    otkl.append(o)\n",
    "    \n",
    "plt.hist(otkl, bins = 50,density=True)\n",
    "plt.ylabel('Frequency',fontsize=10)\n",
    "plt.title('Распределение отконений на каждом обучающем объекте',fontsize=13)"
   ]
  },
  {
   "cell_type": "markdown",
   "metadata": {},
   "source": [
    "\n",
    "#### 4.5. Постройте диаграмму важности признаков. \n",
    "Используйте plt.bar, отсортируйте признаки по важности (модуль соответствующего коэффициента в линейной регрессии) и постройте диаграмму.  Какой признак наиболее важный?"
   ]
  },
  {
   "cell_type": "code",
   "execution_count": 313,
   "metadata": {},
   "outputs": [
    {
     "data": {
      "text/plain": [
       "<BarContainer object of 2 artists>"
      ]
     },
     "execution_count": 313,
     "metadata": {},
     "output_type": "execute_result"
    },
    {
     "data": {
      "image/png": "[encoded data removed]",
      "text/plain": [
       "<Figure size 432x288 with 1 Axes>"
      ]
     },
     "metadata": {
      "needs_background": "light"
     },
     "output_type": "display_data"
    }
   ],
   "source": [
    "#ваш код здесь\n",
    "x = {}\n",
    "for i in range(len(X[0])):\n",
    "    x.setdefault(i, lr.coef_[i])\n",
    "    #x[i] = lr.coef_[i]\n",
    "list_x = list(x.items())\n",
    "list_x.sort(key=lambda i: i[1], reverse = True)\n",
    "plt.bar(list_x[1],list_x[0])"
   ]
  }
 ],
 "metadata": {
  "kernelspec": {
   "display_name": "Python 3",
   "language": "python",
   "name": "python3"
  },
  "language_info": {
   "codemirror_mode": {
    "name": "ipython",
    "version": 3
   },
   "file_extension": ".py",
   "mimetype": "text/x-python",
   "name": "python",
   "nbconvert_exporter": "python",
   "pygments_lexer": "ipython3",
   "version": "3.7.3"
  }
 },
 "nbformat": 4,
 "nbformat_minor": 2
}
